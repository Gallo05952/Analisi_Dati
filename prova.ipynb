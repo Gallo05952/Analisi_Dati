{
 "cells": [
  {
   "cell_type": "code",
   "execution_count": 3,
   "metadata": {},
   "outputs": [
    {
     "data": {
      "text/html": [
       "<div>\n",
       "<style scoped>\n",
       "    .dataframe tbody tr th:only-of-type {\n",
       "        vertical-align: middle;\n",
       "    }\n",
       "\n",
       "    .dataframe tbody tr th {\n",
       "        vertical-align: top;\n",
       "    }\n",
       "\n",
       "    .dataframe thead th {\n",
       "        text-align: right;\n",
       "    }\n",
       "</style>\n",
       "<table border=\"1\" class=\"dataframe\">\n",
       "  <thead>\n",
       "    <tr style=\"text-align: right;\">\n",
       "      <th></th>\n",
       "      <th>Column1</th>\n",
       "      <th>Column2</th>\n",
       "      <th>Column3</th>\n",
       "    </tr>\n",
       "  </thead>\n",
       "  <tbody>\n",
       "    <tr>\n",
       "      <th>Data</th>\n",
       "      <td>0</td>\n",
       "      <td>03:32</td>\n",
       "      <td>0</td>\n",
       "    </tr>\n",
       "    <tr>\n",
       "      <th>Stato MS DISCO2VERY</th>\n",
       "      <td>1</td>\n",
       "      <td>10</td>\n",
       "      <td>2</td>\n",
       "    </tr>\n",
       "  </tbody>\n",
       "</table>\n",
       "</div>"
      ],
      "text/plain": [
       "                    Column1 Column2 Column3\n",
       "Data                      0   03:32       0\n",
       "Stato MS DISCO2VERY       1      10       2"
      ]
     },
     "execution_count": 3,
     "metadata": {},
     "output_type": "execute_result"
    }
   ],
   "source": [
    "import pandas as pd\n",
    "\n",
    "\n",
    "# Assuming 'data' is your dictionary\n",
    "data = {'Data': ['0', '03:32', '0'], 'Stato MS DISCO2VERY': ['1', '10', '2']}\n",
    "\n",
    "# Convert to DataFrame and transpose\n",
    "df = pd.DataFrame(data).T\n",
    "\n",
    "# Assign column names based on their position\n",
    "df.columns = ['Column' + str(i+1) for i in range(df.shape[1])]\n",
    "\n",
    "# Write to Excel\n",
    "df"
   ]
  },
  {
   "cell_type": "code",
   "execution_count": 1,
   "metadata": {},
   "outputs": [
    {
     "ename": "ValueError",
     "evalue": "Initialize failed for backend: \"?\", fluid: \"Carbondioxide&Methane\" fractions \"[ 0.5000000000, 0.5000000000 ]\"; error: key [Carbondioxide] was not found in string_to_index_map in JSONFluidLibrary : PropsSI(\"H\",\"T\",300,\"P\",101325,\"Carbondioxide[0.5]&Methane[0.5]\")",
     "output_type": "error",
     "traceback": [
      "\u001b[1;31m---------------------------------------------------------------------------\u001b[0m",
      "\u001b[1;31mValueError\u001b[0m                                Traceback (most recent call last)",
      "Cell \u001b[1;32mIn[1], line 11\u001b[0m\n\u001b[0;32m      8\u001b[0m pressure \u001b[38;5;241m=\u001b[39m \u001b[38;5;241m101325\u001b[39m  \u001b[38;5;66;03m# Pa\u001b[39;00m\n\u001b[0;32m     10\u001b[0m \u001b[38;5;66;03m# Calculate the enthalpy (in J/kg)\u001b[39;00m\n\u001b[1;32m---> 11\u001b[0m enthalpy \u001b[38;5;241m=\u001b[39m \u001b[43mPropsSI\u001b[49m\u001b[43m(\u001b[49m\u001b[38;5;124;43m'\u001b[39;49m\u001b[38;5;124;43mH\u001b[39;49m\u001b[38;5;124;43m'\u001b[39;49m\u001b[43m,\u001b[49m\u001b[43m \u001b[49m\u001b[38;5;124;43m'\u001b[39;49m\u001b[38;5;124;43mT\u001b[39;49m\u001b[38;5;124;43m'\u001b[39;49m\u001b[43m,\u001b[49m\u001b[43m \u001b[49m\u001b[43mtemperature\u001b[49m\u001b[43m,\u001b[49m\u001b[43m \u001b[49m\u001b[38;5;124;43m'\u001b[39;49m\u001b[38;5;124;43mP\u001b[39;49m\u001b[38;5;124;43m'\u001b[39;49m\u001b[43m,\u001b[49m\u001b[43m \u001b[49m\u001b[43mpressure\u001b[49m\u001b[43m,\u001b[49m\u001b[43m \u001b[49m\u001b[43mmixture\u001b[49m\u001b[43m)\u001b[49m\n\u001b[0;32m     13\u001b[0m \u001b[38;5;28mprint\u001b[39m(\u001b[38;5;124mf\u001b[39m\u001b[38;5;124m'\u001b[39m\u001b[38;5;124mThe enthalpy of the mixture is \u001b[39m\u001b[38;5;132;01m{\u001b[39;00menthalpy\u001b[38;5;132;01m}\u001b[39;00m\u001b[38;5;124m J/kg.\u001b[39m\u001b[38;5;124m'\u001b[39m)\n",
      "File \u001b[1;32mCoolProp\\\\CoolProp.pyx:391\u001b[0m, in \u001b[0;36mCoolProp.CoolProp.PropsSI\u001b[1;34m()\u001b[0m\n",
      "File \u001b[1;32mCoolProp\\\\CoolProp.pyx:471\u001b[0m, in \u001b[0;36mCoolProp.CoolProp.PropsSI\u001b[1;34m()\u001b[0m\n",
      "File \u001b[1;32mCoolProp\\\\CoolProp.pyx:358\u001b[0m, in \u001b[0;36mCoolProp.CoolProp.__Props_err2\u001b[1;34m()\u001b[0m\n",
      "\u001b[1;31mValueError\u001b[0m: Initialize failed for backend: \"?\", fluid: \"Carbondioxide&Methane\" fractions \"[ 0.5000000000, 0.5000000000 ]\"; error: key [Carbondioxide] was not found in string_to_index_map in JSONFluidLibrary : PropsSI(\"H\",\"T\",300,\"P\",101325,\"Carbondioxide[0.5]&Methane[0.5]\")"
     ]
    }
   ],
   "source": [
    "from CoolProp.CoolProp import PropsSI\n",
    "\n",
    "print(dir(PropsSI)"
   ]
  }
 ],
 "metadata": {
  "kernelspec": {
   "display_name": "Python 3",
   "language": "python",
   "name": "python3"
  },
  "language_info": {
   "codemirror_mode": {
    "name": "ipython",
    "version": 3
   },
   "file_extension": ".py",
   "mimetype": "text/x-python",
   "name": "python",
   "nbconvert_exporter": "python",
   "pygments_lexer": "ipython3",
   "version": "3.11.9"
  }
 },
 "nbformat": 4,
 "nbformat_minor": 2
}

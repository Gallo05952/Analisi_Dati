{
 "cells": [
  {
   "cell_type": "code",
   "execution_count": 2,
   "metadata": {},
   "outputs": [
    {
     "data": {
      "text/plain": [
       "'line_chart.html'"
      ]
     },
     "execution_count": 2,
     "metadata": {},
     "output_type": "execute_result"
    }
   ],
   "source": [
    "import plotly.graph_objects as go\n",
    "import plotly.offline as pyo\n",
    "\n",
    "# Create traces\n",
    "trace1 = go.Scatter(\n",
    "    x = [1, 2, 3, 4, 5],\n",
    "    y = [1, 2, 3, 2, 1],\n",
    "    mode = 'lines+markers',\n",
    "    name = 'y1'\n",
    ")\n",
    "\n",
    "trace2 = go.Scatter(\n",
    "    x = [1, 2, 3, 4, 5],\n",
    "    y = [2, 3, 4, 3, 2],\n",
    "    mode = 'lines+markers',\n",
    "    name = 'y2'\n",
    ")\n",
    "\n",
    "data = [trace1, trace2]\n",
    "\n",
    "# Define the layout\n",
    "layout = go.Layout(\n",
    "    title = 'Example Plot',\n",
    "    xaxis = {'title': 'X Axis'},\n",
    "    yaxis = {'title': 'Y Axis'},\n",
    "    hovermode='closest',\n",
    "    updatemenus=[\n",
    "        dict(\n",
    "            type=\"buttons\",\n",
    "            direction=\"right\",\n",
    "            active=0,\n",
    "            x=0.57,\n",
    "            y=1.2,\n",
    "            buttons=list([\n",
    "                dict(label=\"Both\",\n",
    "                     method=\"update\",\n",
    "                     args=[{\"visible\": [True, True]},\n",
    "                           {\"title\": \"y1 and y2\"}]),\n",
    "                dict(label=\"y1\",\n",
    "                     method=\"update\",\n",
    "                     args=[{\"visible\": [True, False]},\n",
    "                           {\"title\": \"y1\"}]),\n",
    "                dict(label=\"y2\",\n",
    "                     method=\"update\",\n",
    "                     args=[{\"visible\": [False, True]},\n",
    "                           {\"title\": \"y2\"}]),\n",
    "            ]),\n",
    "        )\n",
    "    ]\n",
    ")\n",
    "\n",
    "# Create a Figure and save to HTML\n",
    "fig = go.Figure(data=data, layout=layout)\n",
    "pyo.plot(fig, filename='line_chart.html')"
   ]
  },
  {
   "cell_type": "code",
   "execution_count": 3,
   "metadata": {},
   "outputs": [
    {
     "data": {
      "text/plain": [
       "'bar_chart.html'"
      ]
     },
     "execution_count": 3,
     "metadata": {},
     "output_type": "execute_result"
    }
   ],
   "source": [
    "import plotly.graph_objects as go\n",
    "import plotly.offline as pyo\n",
    "\n",
    "# Create a trace\n",
    "trace = go.Bar(\n",
    "    x = ['Category 1', 'Category 2', 'Category 3'],\n",
    "    y = [1, 2, 3],\n",
    "    name = 'Example Bar Chart'\n",
    ")\n",
    "\n",
    "data = [trace]\n",
    "\n",
    "# Define the layout\n",
    "layout = go.Layout(\n",
    "    title = 'Example Bar Chart',\n",
    "    xaxis = {'title': 'Categories'},\n",
    "    yaxis = {'title': 'Values'},\n",
    ")\n",
    "\n",
    "# Create a Figure and save to HTML\n",
    "fig = go.Figure(data=data, layout=layout)\n",
    "pyo.plot(fig, filename='bar_chart.html')"
   ]
  },
  {
   "cell_type": "code",
   "execution_count": 4,
   "metadata": {},
   "outputs": [
    {
     "data": {
      "text/plain": [
       "'pie_chart.html'"
      ]
     },
     "execution_count": 4,
     "metadata": {},
     "output_type": "execute_result"
    }
   ],
   "source": [
    "import plotly.graph_objects as go\n",
    "import plotly.offline as pyo\n",
    "\n",
    "# Create a trace\n",
    "trace = go.Pie(\n",
    "    labels = ['Category 1', 'Category 2', 'Category 3'],\n",
    "    values = [1, 2, 3],\n",
    "    name = 'Example Pie Chart'\n",
    ")\n",
    "\n",
    "data = [trace]\n",
    "\n",
    "# Define the layout\n",
    "layout = go.Layout(\n",
    "    title = 'Example Pie Chart',\n",
    ")\n",
    "\n",
    "# Create a Figure and save to HTML\n",
    "fig = go.Figure(data=data, layout=layout)\n",
    "pyo.plot(fig, filename='pie_chart.html')"
   ]
  },
  {
   "cell_type": "code",
   "execution_count": 4,
   "metadata": {},
   "outputs": [],
   "source": [
    "import pandas as pd\n",
    "import plotly.express as px\n",
    "\n",
    "# Creazione di un DataFrame di esempio\n",
    "data = {\n",
    "    'A': [0, 0, 0, 0, 0],\n",
    "    'B': [2, 3, 4, 5, 6],\n",
    "    'C': [3, 4, 5, 6, 7],\n",
    "}\n",
    "df = pd.DataFrame(data)\n",
    "\n",
    "# Calcolo della correlazione di Pearson\n",
    "corr = df.corr()\n",
    "\n",
    "# Trasformazione del DataFrame di correlazione in un formato lungo per il plotting\n",
    "corr_long = corr.unstack().reset_index()\n",
    "corr_long.columns = ['Variable 1', 'Variable 2', 'Correlation']\n",
    "\n",
    "# Creazione del barplot con Plotly\n",
    "fig = px.bar(corr_long, x='Variable 1', y='Correlation', color='Variable 2', barmode='group')\n",
    "\n",
    "fig.write_html('correlation_bar_plot.html')"
   ]
  }
 ],
 "metadata": {
  "kernelspec": {
   "display_name": "Python 3",
   "language": "python",
   "name": "python3"
  },
  "language_info": {
   "codemirror_mode": {
    "name": "ipython",
    "version": 3
   },
   "file_extension": ".py",
   "mimetype": "text/x-python",
   "name": "python",
   "nbconvert_exporter": "python",
   "pygments_lexer": "ipython3",
   "version": "3.11.9"
  }
 },
 "nbformat": 4,
 "nbformat_minor": 2
}
